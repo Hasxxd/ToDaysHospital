{
 "cells": [
  {
   "cell_type": "code",
   "execution_count": 15,
   "id": "d70156a7",
   "metadata": {},
   "outputs": [
    {
     "name": "stdout",
     "output_type": "stream",
     "text": [
      "Collecting pyproj\n",
      "  Downloading pyproj-3.7.1-cp312-cp312-win_amd64.whl.metadata (31 kB)\n",
      "Collecting certifi (from pyproj)\n",
      "  Using cached certifi-2025.7.14-py3-none-any.whl.metadata (2.4 kB)\n",
      "Downloading pyproj-3.7.1-cp312-cp312-win_amd64.whl (6.3 MB)\n",
      "   ---------------------------------------- 0.0/6.3 MB ? eta -:--:--\n",
      "   ---------------------------------------- 6.3/6.3 MB 77.1 MB/s eta 0:00:00\n",
      "Downloading certifi-2025.7.14-py3-none-any.whl (162 kB)\n",
      "Installing collected packages: certifi, pyproj\n",
      "\n",
      "   -------------------- ------------------- 1/2 [pyproj]\n",
      "   -------------------- ------------------- 1/2 [pyproj]\n",
      "   -------------------- ------------------- 1/2 [pyproj]\n",
      "   ---------------------------------------- 2/2 [pyproj]\n",
      "\n",
      "Successfully installed certifi-2025.7.14 pyproj-3.7.1\n"
     ]
    }
   ],
   "source": [
    "!pip install pyproj"
   ]
  },
  {
   "cell_type": "code",
   "execution_count": 25,
   "id": "25ec6e99",
   "metadata": {},
   "outputs": [],
   "source": [
    "import pandas as pd\n",
    "from pyproj import Transformer"
   ]
  },
  {
   "cell_type": "code",
   "execution_count": 26,
   "id": "658b5fbd",
   "metadata": {},
   "outputs": [
    {
     "data": {
      "text/plain": [
       "['번호',\n",
       " '개방서비스명',\n",
       " '개방서비스아이디',\n",
       " '개방자치단체코드',\n",
       " '관리번호',\n",
       " '인허가일자',\n",
       " '영업상태명',\n",
       " '상세영업상태코드',\n",
       " '상세영업상태명',\n",
       " '소재지전화',\n",
       " '소재지우편번호',\n",
       " '소재지전체주소',\n",
       " '도로명전체주소',\n",
       " '도로명우편번호',\n",
       " '사업장명',\n",
       " '최종수정시점',\n",
       " '데이터갱신구분',\n",
       " '데이터갱신일자',\n",
       " '업태구분명',\n",
       " '좌표정보x(epsg5174)',\n",
       " '좌표정보y(epsg5174)',\n",
       " '의료기관종별명',\n",
       " '의료인수',\n",
       " '입원실수',\n",
       " '병상수',\n",
       " '총면적',\n",
       " '진료과목내용',\n",
       " '진료과목내용명',\n",
       " '지정취소일자',\n",
       " '완화의료지정형태']"
      ]
     },
     "execution_count": 26,
     "metadata": {},
     "output_type": "execute_result"
    }
   ],
   "source": [
    "df = pd.read_csv(\"daejeon_local_hospital.csv\", encoding='utf-8')\n",
    "df.columns.to_list()"
   ]
  },
  {
   "cell_type": "code",
   "execution_count": 27,
   "id": "e7a6d4bb",
   "metadata": {},
   "outputs": [
    {
     "data": {
      "text/html": [
       "<div>\n",
       "<style scoped>\n",
       "    .dataframe tbody tr th:only-of-type {\n",
       "        vertical-align: middle;\n",
       "    }\n",
       "\n",
       "    .dataframe tbody tr th {\n",
       "        vertical-align: top;\n",
       "    }\n",
       "\n",
       "    .dataframe thead th {\n",
       "        text-align: right;\n",
       "    }\n",
       "</style>\n",
       "<table border=\"1\" class=\"dataframe\">\n",
       "  <thead>\n",
       "    <tr style=\"text-align: right;\">\n",
       "      <th></th>\n",
       "      <th>사업장명</th>\n",
       "      <th>좌표정보y(epsg5174)</th>\n",
       "      <th>좌표정보x(epsg5174)</th>\n",
       "    </tr>\n",
       "  </thead>\n",
       "  <tbody>\n",
       "    <tr>\n",
       "      <th>0</th>\n",
       "      <td>대전대학교 대전한방병원</td>\n",
       "      <td>316257.3029</td>\n",
       "      <td>233980.0617</td>\n",
       "    </tr>\n",
       "    <tr>\n",
       "      <th>1</th>\n",
       "      <td>의료법인 원전의료재단 가양요양병원</td>\n",
       "      <td>316259.2286</td>\n",
       "      <td>240048.7929</td>\n",
       "    </tr>\n",
       "    <tr>\n",
       "      <th>2</th>\n",
       "      <td>의료법인 영훈의료재단 선치과병원</td>\n",
       "      <td>315310.5702</td>\n",
       "      <td>237098.1477</td>\n",
       "    </tr>\n",
       "    <tr>\n",
       "      <th>3</th>\n",
       "      <td>근로복지공단 대전병원</td>\n",
       "      <td>318721.2539</td>\n",
       "      <td>238383.2615</td>\n",
       "    </tr>\n",
       "    <tr>\n",
       "      <th>4</th>\n",
       "      <td>에이스마일치과병원</td>\n",
       "      <td>321248.8281</td>\n",
       "      <td>227923.3556</td>\n",
       "    </tr>\n",
       "    <tr>\n",
       "      <th>5</th>\n",
       "      <td>백세요양병원</td>\n",
       "      <td>313754.0904</td>\n",
       "      <td>238385.2675</td>\n",
       "    </tr>\n",
       "    <tr>\n",
       "      <th>6</th>\n",
       "      <td>새봄요양병원</td>\n",
       "      <td>312452.6884</td>\n",
       "      <td>241043.8249</td>\n",
       "    </tr>\n",
       "    <tr>\n",
       "      <th>7</th>\n",
       "      <td>강남한방병원</td>\n",
       "      <td>313785.6328</td>\n",
       "      <td>235289.3598</td>\n",
       "    </tr>\n",
       "    <tr>\n",
       "      <th>8</th>\n",
       "      <td>중구의료소비자생활협동조합 보문산생태요양병원</td>\n",
       "      <td>312345.5078</td>\n",
       "      <td>237714.0041</td>\n",
       "    </tr>\n",
       "    <tr>\n",
       "      <th>9</th>\n",
       "      <td>둔산엔젤요양병원</td>\n",
       "      <td>317142.6906</td>\n",
       "      <td>234034.7927</td>\n",
       "    </tr>\n",
       "    <tr>\n",
       "      <th>10</th>\n",
       "      <td>꽃빛한방병원</td>\n",
       "      <td>315858.2805</td>\n",
       "      <td>234772.5177</td>\n",
       "    </tr>\n",
       "    <tr>\n",
       "      <th>11</th>\n",
       "      <td>유성한방병원</td>\n",
       "      <td>316979.3954</td>\n",
       "      <td>230517.5634</td>\n",
       "    </tr>\n",
       "    <tr>\n",
       "      <th>12</th>\n",
       "      <td>정한방병원</td>\n",
       "      <td>317087.7963</td>\n",
       "      <td>233940.5276</td>\n",
       "    </tr>\n",
       "    <tr>\n",
       "      <th>13</th>\n",
       "      <td>보강한방병원</td>\n",
       "      <td>316704.9417</td>\n",
       "      <td>233322.7056</td>\n",
       "    </tr>\n",
       "    <tr>\n",
       "      <th>14</th>\n",
       "      <td>리치한방병원</td>\n",
       "      <td>315723.2839</td>\n",
       "      <td>234905.9988</td>\n",
       "    </tr>\n",
       "  </tbody>\n",
       "</table>\n",
       "</div>"
      ],
      "text/plain": [
       "                       사업장명  좌표정보y(epsg5174)  좌표정보x(epsg5174)\n",
       "0              대전대학교 대전한방병원      316257.3029      233980.0617\n",
       "1        의료법인 원전의료재단 가양요양병원      316259.2286      240048.7929\n",
       "2         의료법인 영훈의료재단 선치과병원      315310.5702      237098.1477\n",
       "3               근로복지공단 대전병원      318721.2539      238383.2615\n",
       "4                 에이스마일치과병원      321248.8281      227923.3556\n",
       "5                    백세요양병원      313754.0904      238385.2675\n",
       "6                    새봄요양병원      312452.6884      241043.8249\n",
       "7                    강남한방병원      313785.6328      235289.3598\n",
       "8   중구의료소비자생활협동조합 보문산생태요양병원      312345.5078      237714.0041\n",
       "9                  둔산엔젤요양병원      317142.6906      234034.7927\n",
       "10                   꽃빛한방병원      315858.2805      234772.5177\n",
       "11                   유성한방병원      316979.3954      230517.5634\n",
       "12                    정한방병원      317087.7963      233940.5276\n",
       "13                   보강한방병원      316704.9417      233322.7056\n",
       "14                   리치한방병원      315723.2839      234905.9988"
      ]
     },
     "execution_count": 27,
     "metadata": {},
     "output_type": "execute_result"
    }
   ],
   "source": [
    "df[['사업장명', '좌표정보y(epsg5174)', '좌표정보x(epsg5174)']].head(15)"
   ]
  },
  {
   "cell_type": "code",
   "execution_count": null,
   "id": "3d42b784",
   "metadata": {},
   "outputs": [
    {
     "data": {
      "text/html": [
       "<div>\n",
       "<style scoped>\n",
       "    .dataframe tbody tr th:only-of-type {\n",
       "        vertical-align: middle;\n",
       "    }\n",
       "\n",
       "    .dataframe tbody tr th {\n",
       "        vertical-align: top;\n",
       "    }\n",
       "\n",
       "    .dataframe thead th {\n",
       "        text-align: right;\n",
       "    }\n",
       "</style>\n",
       "<table border=\"1\" class=\"dataframe\">\n",
       "  <thead>\n",
       "    <tr style=\"text-align: right;\">\n",
       "      <th></th>\n",
       "      <th>사업장명</th>\n",
       "      <th>위도_Y(epsg4326)</th>\n",
       "      <th>경도_X(epsg4326)</th>\n",
       "    </tr>\n",
       "  </thead>\n",
       "  <tbody>\n",
       "    <tr>\n",
       "      <th>0</th>\n",
       "      <td>대전대학교 대전한방병원</td>\n",
       "      <td>36.346538</td>\n",
       "      <td>127.379329</td>\n",
       "    </tr>\n",
       "    <tr>\n",
       "      <th>1</th>\n",
       "      <td>의료법인 원전의료재단 가양요양병원</td>\n",
       "      <td>36.346322</td>\n",
       "      <td>127.446932</td>\n",
       "    </tr>\n",
       "    <tr>\n",
       "      <th>2</th>\n",
       "      <td>의료법인 영훈의료재단 선치과병원</td>\n",
       "      <td>36.337892</td>\n",
       "      <td>127.414018</td>\n",
       "    </tr>\n",
       "  </tbody>\n",
       "</table>\n",
       "</div>"
      ],
      "text/plain": [
       "                 사업장명  위도_Y(epsg4326)  경도_X(epsg4326)\n",
       "0        대전대학교 대전한방병원       36.346538      127.379329\n",
       "1  의료법인 원전의료재단 가양요양병원       36.346322      127.446932\n",
       "2   의료법인 영훈의료재단 선치과병원       36.337892      127.414018"
      ]
     },
     "execution_count": 28,
     "metadata": {},
     "output_type": "execute_result"
    }
   ],
   "source": [
    "x_point = df['좌표정보x(epsg5174)'].astype(float).to_list()  # 경도\n",
    "y_point = df['좌표정보y(epsg5174)'].astype(float).to_list()  # 위도\n",
    "\n",
    "# EPSG:5174는 국내 행정지도 측량용 좌표\n",
    "# EPSG:4326은 전 세계 지도 서비스 표준 좌표\n",
    "# 좌표 변환기 정의, epsg:5174 -> epsg:4326 # 변환 규칙 명시\n",
    "transformer = Transformer.from_crs(\"epsg:5174\", \"epsg:4326\", always_xy=True)\n",
    "\n",
    "lon_list, lat_list = transformer.transform(x_point, y_point)\n",
    "\n",
    "df['경도_X(epsg4326)'] = lon_list\n",
    "df['위도_Y(epsg4326)'] = lat_list\n",
    "\n",
    "# 기존 좌표계 삭제\n",
    "df.drop(columns=['좌표정보x(epsg5174)', '좌표정보y(epsg5174)'], inplace=True)\n",
    "\n",
    "# 변환된 데이터 확인\n",
    "df[['사업장명', '위도_Y(epsg4326)', '경도_X(epsg4326)']].head(3) # 구글 대차비교용 출력"
   ]
  },
  {
   "cell_type": "markdown",
   "id": "0dcdc853",
   "metadata": {},
   "source": [
    "# 대전대학교 대전한방병원\t| 36.346538 | 127.379329\n",
    "# https://www.google.com/maps?q=36.34653792451366,127.37932946833648\n",
    "# 구글에 경우 위도(y), 경도(x) 순서로 입력.\n",
    "# 네이버는 api 변수 입력 규칙 문서 참조 필요."
   ]
  },
  {
   "cell_type": "code",
   "execution_count": 30,
   "id": "77a18e42",
   "metadata": {},
   "outputs": [],
   "source": [
    "df.to_csv(\"(conversion)_daejeon_local_hospital_transformed.csv\", index=False, encoding='utf-8')"
   ]
  },
  {
   "cell_type": "code",
   "execution_count": 32,
   "id": "f86d1c67",
   "metadata": {},
   "outputs": [
    {
     "data": {
      "text/plain": [
       "['번호',\n",
       " '개방서비스명',\n",
       " '개방서비스아이디',\n",
       " '개방자치단체코드',\n",
       " '관리번호',\n",
       " '인허가일자',\n",
       " '영업상태명',\n",
       " '상세영업상태코드',\n",
       " '상세영업상태명',\n",
       " '소재지전화',\n",
       " '소재지우편번호',\n",
       " '소재지전체주소',\n",
       " '도로명전체주소',\n",
       " '도로명우편번호',\n",
       " '사업장명',\n",
       " '최종수정시점',\n",
       " '데이터갱신구분',\n",
       " '데이터갱신일자',\n",
       " '업태구분명',\n",
       " '의료기관종별명',\n",
       " '의료인수',\n",
       " '입원실수',\n",
       " '병상수',\n",
       " '총면적',\n",
       " '진료과목내용',\n",
       " '진료과목내용명',\n",
       " '지정취소일자',\n",
       " '완화의료지정형태',\n",
       " '경도_X(epsg4326)',\n",
       " '위도_Y(epsg4326)']"
      ]
     },
     "execution_count": 32,
     "metadata": {},
     "output_type": "execute_result"
    }
   ],
   "source": [
    "saveing_check_df = pd.read_csv(\"(conversion)_daejeon_local_hospital_transformed.csv\", encoding='utf-8')\n",
    "saveing_check_df.columns.to_list()"
   ]
  },
  {
   "cell_type": "code",
   "execution_count": 33,
   "id": "4588f1e1",
   "metadata": {},
   "outputs": [
    {
     "data": {
      "text/html": [
       "<div>\n",
       "<style scoped>\n",
       "    .dataframe tbody tr th:only-of-type {\n",
       "        vertical-align: middle;\n",
       "    }\n",
       "\n",
       "    .dataframe tbody tr th {\n",
       "        vertical-align: top;\n",
       "    }\n",
       "\n",
       "    .dataframe thead th {\n",
       "        text-align: right;\n",
       "    }\n",
       "</style>\n",
       "<table border=\"1\" class=\"dataframe\">\n",
       "  <thead>\n",
       "    <tr style=\"text-align: right;\">\n",
       "      <th></th>\n",
       "      <th>사업장명</th>\n",
       "      <th>위도_Y(epsg4326)</th>\n",
       "      <th>경도_X(epsg4326)</th>\n",
       "    </tr>\n",
       "  </thead>\n",
       "  <tbody>\n",
       "    <tr>\n",
       "      <th>0</th>\n",
       "      <td>대전대학교 대전한방병원</td>\n",
       "      <td>36.346538</td>\n",
       "      <td>127.379329</td>\n",
       "    </tr>\n",
       "    <tr>\n",
       "      <th>1</th>\n",
       "      <td>의료법인 원전의료재단 가양요양병원</td>\n",
       "      <td>36.346322</td>\n",
       "      <td>127.446932</td>\n",
       "    </tr>\n",
       "    <tr>\n",
       "      <th>2</th>\n",
       "      <td>의료법인 영훈의료재단 선치과병원</td>\n",
       "      <td>36.337892</td>\n",
       "      <td>127.414018</td>\n",
       "    </tr>\n",
       "  </tbody>\n",
       "</table>\n",
       "</div>"
      ],
      "text/plain": [
       "                 사업장명  위도_Y(epsg4326)  경도_X(epsg4326)\n",
       "0        대전대학교 대전한방병원       36.346538      127.379329\n",
       "1  의료법인 원전의료재단 가양요양병원       36.346322      127.446932\n",
       "2   의료법인 영훈의료재단 선치과병원       36.337892      127.414018"
      ]
     },
     "execution_count": 33,
     "metadata": {},
     "output_type": "execute_result"
    }
   ],
   "source": [
    "# 컨버전 저장 확인용 출력\n",
    "saveing_check_df[['사업장명', '위도_Y(epsg4326)', '경도_X(epsg4326)']].head(3)  "
   ]
  }
 ],
 "metadata": {
  "kernelspec": {
   "display_name": "Python 3",
   "language": "python",
   "name": "python3"
  },
  "language_info": {
   "codemirror_mode": {
    "name": "ipython",
    "version": 3
   },
   "file_extension": ".py",
   "mimetype": "text/x-python",
   "name": "python",
   "nbconvert_exporter": "python",
   "pygments_lexer": "ipython3",
   "version": "3.12.4"
  }
 },
 "nbformat": 4,
 "nbformat_minor": 5
}
